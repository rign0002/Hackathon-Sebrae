{
  "nbformat": 4,
  "nbformat_minor": 0,
  "metadata": {
    "colab": {
      "name": "Algoritmo de recomendacao.ipynb",
      "provenance": []
    },
    "kernelspec": {
      "name": "python3",
      "display_name": "Python 3"
    }
  },
  "cells": [
    {
      "cell_type": "code",
      "metadata": {
        "id": "h6-ALyT_mJFd",
        "colab_type": "code",
        "colab": {}
      },
      "source": [
        "import pandas as pd\n",
        "import numpy as np"
      ],
      "execution_count": 0,
      "outputs": []
    },
    {
      "cell_type": "code",
      "metadata": {
        "id": "gtm0SKmUl848",
        "colab_type": "code",
        "colab": {}
      },
      "source": [
        "#Funcao responsavel por calcular a distancia euclidiana entre os usuarios.\n",
        "def distancia_de_vetores(a,b):\n",
        "  return np.linalg.norm(a - b)"
      ],
      "execution_count": 0,
      "outputs": []
    },
    {
      "cell_type": "code",
      "metadata": {
        "id": "NNMv5XT0l-mf",
        "colab_type": "code",
        "colab": {}
      },
      "source": [
        "#funcao responsavel por fornecer as notas que um usuario deu para um serviço\n",
        "def notas_do_usuario(usuario, numero_de_recomendacoes = 100):\n",
        "  if vendas.query(\"Cliente==%d\" % usuario).dropna().shape[0] == 0:\n",
        "    recomendacao_novo =  vendas.groupby('Serviço').mean()[['nota']]\n",
        "    recomendacao_novo =  recomendacao_novo.sort_values('nota', ascending = False)\n",
        "    return recomendacao_novo.head(4)\n",
        "\n",
        "  notas_do_usuario = vendas.query(\"Cliente==%d\" % usuario)\n",
        "  notas_do_usuario = notas_do_usuario[[\"Serviço\", \"nota\"]].set_index(\"Serviço\")\n",
        "  return notas_do_usuario"
      ],
      "execution_count": 0,
      "outputs": []
    },
    {
      "cell_type": "code",
      "metadata": {
        "id": "TtgftqL2l-1N",
        "colab_type": "code",
        "colab": {}
      },
      "source": [
        "#Funcao para calcular a distancia entre um usuario e outro\n",
        "#como meu banco de dados tem poucos clientes, coloquei que os usuarios precisam ter no minimo 1 semelhanca\n",
        "def distancia_de_usuarios(usuario1, usuario2, minimo = 0):\n",
        "  notas1 = notas_do_usuario(usuario1)\n",
        "  notas2 = notas_do_usuario(usuario2)\n",
        "  diferencas = notas1.join(notas2,lsuffix = '_esquerda', rsuffix = '_direita').dropna()\n",
        "  \n",
        "  if(len(diferencas) < minimo):\n",
        "    return None\n",
        "  \n",
        "  distancia =  distancia_de_vetores(diferencas['nota_esquerda'], diferencas['nota_direita'])\n",
        "  \n",
        "  return [usuario1, usuario2, distancia]"
      ],
      "execution_count": 0,
      "outputs": []
    },
    {
      "cell_type": "code",
      "metadata": {
        "id": "Z9bd6hdMl_7N",
        "colab_type": "code",
        "colab": {}
      },
      "source": [
        "#Funcao responsavel para calcular a distancia entre usuario e todos os usuarios, ou parte, isso pode ser alterado\n",
        "def distancia_de_todos(voce, numero_de_usuarios_a_analisar = None):\n",
        "  todos_os_usuarios = vendas['Cliente'].unique()\n",
        "  if numero_de_usuarios_a_analisar:\n",
        "    todos_os_usuarios = todos_os_usuarios[:numero_de_usuarios_a_analisar]\n",
        "  distancias = [distancia_de_usuarios(voce, cliente) for cliente in todos_os_usuarios]\n",
        "  distancias = list(filter(None,distancias))\n",
        "  distancias = pd.DataFrame(distancias, columns = ['voce','outra_pessoa','distancia'])\n",
        "  return distancias"
      ],
      "execution_count": 0,
      "outputs": []
    },
    {
      "cell_type": "code",
      "metadata": {
        "id": "PzngmvdAmBc8",
        "colab_type": "code",
        "colab": {}
      },
      "source": [
        "#essa funcao vai receber todas as distancias euclidianas e devolver os usuarios mais proximos de \"voce\" mais proximos.\n",
        "def mais_proximos_de(voce, n_mais_proximos= 10 ,numero_de_usuarios_a_analisar = None):\n",
        "  distancias = distancia_de_todos(voce, numero_de_usuarios_a_analisar)\n",
        "  distancias = distancias.sort_values(\"distancia\")\n",
        "  distancias = distancias.set_index(\"outra_pessoa\").drop(voce)\n",
        "  return distancias.head(n_mais_proximos)"
      ],
      "execution_count": 0,
      "outputs": []
    },
    {
      "cell_type": "code",
      "metadata": {
        "id": "VvKm-xDrmDEk",
        "colab_type": "code",
        "colab": {}
      },
      "source": [
        "#essa é a funcao responsavel por devolver os servicos recomendados para um usuario\n",
        "#ela recebe como parametro \"voce\", que é a Id do usuario.\n",
        "def sugere_para(voce, \n",
        "                n_mais_proximos = 4, \n",
        "                numero_de_usuarios_a_analisar = None,\n",
        "):\n",
        "  notas_de_voce = notas_do_usuario(voce)\n",
        "  servicos_ja_usados = notas_de_voce.index\n",
        "  \n",
        "  similares = mais_proximos_de(voce,\n",
        "                               n_mais_proximos = n_mais_proximos,\n",
        "                               numero_de_usuarios_a_analisar = \n",
        "                               numero_de_usuarios_a_analisar,\n",
        "                               )\n",
        "  \n",
        "  usuarios_similares = similares.index\n",
        "  notas_dos_similares = vendas.set_index('Cliente').loc[usuarios_similares]\n",
        "\n",
        "  recomendacoes = notas_dos_similares.groupby('Serviço').mean()[['nota']]\n",
        "  recomendacoes = recomendacoes.sort_values(\"nota\",ascending = False)\n",
        "  \n",
        "  return recomendacoes.head(4).index\n",
        "  "
      ],
      "execution_count": 0,
      "outputs": []
    },
    {
      "cell_type": "code",
      "metadata": {
        "id": "TGP8ktFpmFFs",
        "colab_type": "code",
        "colab": {}
      },
      "source": [
        "def recomendados(numero_de_recomendacoes = 4):\n",
        "  x = [cliente for cliente in vendas['Cliente'].unique()]\n",
        "  return [sugere_para(cliente,numero_de_recomendacoes) for cliente in x]"
      ],
      "execution_count": 0,
      "outputs": []
    },
    {
      "cell_type": "code",
      "metadata": {
        "id": "mUAuhN1emHu9",
        "colab_type": "code",
        "outputId": "e806c404-e619-4a13-8e46-7cc5e2f1c898",
        "colab": {
          "base_uri": "https://localhost:8080/",
          "height": 101
        }
      },
      "source": [
        "vendas = pd.read_csv(\"vendas15.csv\")\n",
        "recomendados()"
      ],
      "execution_count": 0,
      "outputs": [
        {
          "output_type": "execute_result",
          "data": {
            "text/plain": [
              "[Int64Index([1, 2, 7, 12], dtype='int64', name='Serviço'),\n",
              " Int64Index([7, 12, 4, 6], dtype='int64', name='Serviço'),\n",
              " Int64Index([2, 7, 9, 12], dtype='int64', name='Serviço'),\n",
              " Int64Index([2, 7, 12, 1], dtype='int64', name='Serviço'),\n",
              " Int64Index([2, 7, 12, 1], dtype='int64', name='Serviço')]"
            ]
          },
          "metadata": {
            "tags": []
          },
          "execution_count": 23
        }
      ]
    },
    {
      "cell_type": "code",
      "metadata": {
        "id": "xKFS-8c3mXju",
        "colab_type": "code",
        "colab": {}
      },
      "source": [
        ""
      ],
      "execution_count": 0,
      "outputs": []
    }
  ]
}